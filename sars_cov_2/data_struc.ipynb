{
 "cells": [
  {
   "cell_type": "code",
   "execution_count": null,
   "metadata": {},
   "outputs": [],
   "source": [
    "# protein alignments: http://virological.org/t/alignment-of-58-sarbecovirus-genomes-for-conservation-analysis-of-sars-cov-2/430"
   ]
  },
  {
   "cell_type": "code",
   "execution_count": null,
   "metadata": {},
   "outputs": [],
   "source": []
  },
  {
   "cell_type": "code",
   "execution_count": null,
   "metadata": {},
   "outputs": [],
   "source": []
  },
  {
   "cell_type": "code",
   "execution_count": 3,
   "metadata": {},
   "outputs": [
    {
     "name": "stdout",
     "output_type": "stream",
     "text": [
      "dup \n",
      "dup \n",
      "dup \n",
      "dup \n",
      "dup \n",
      "dup \n",
      "dup \n",
      "dup \n",
      "dup \n",
      "dup \n",
      "dup \n",
      "dup \n",
      "dup \n",
      "dup \n",
      "dup \n",
      "dup \n",
      "dup \n",
      "dup \n",
      "dup \n",
      "dup \n"
     ]
    },
    {
     "data": {
      "text/plain": [
       "{'': '*',\n",
       " 'gct': 'A',\n",
       " 'gcc': 'A',\n",
       " 'gca': 'A',\n",
       " 'gcg': 'A',\n",
       " 'att': 'I',\n",
       " 'atc': 'I',\n",
       " 'ata': 'I',\n",
       " 'cgt': 'R',\n",
       " 'cgc': 'R',\n",
       " 'cga': 'R',\n",
       " 'cgg': 'R',\n",
       " 'aga': 'R',\n",
       " 'agg': 'R',\n",
       " 'ctt': 'L',\n",
       " 'ctc': 'L',\n",
       " 'cta': 'L',\n",
       " 'ctg': 'L',\n",
       " 'tta': 'L',\n",
       " 'ttg': 'L',\n",
       " 'aat': 'N',\n",
       " 'aac': 'N',\n",
       " 'aaa': 'K',\n",
       " 'aag': 'K',\n",
       " 'gat': 'D',\n",
       " 'gac': 'D',\n",
       " 'atg': 'M',\n",
       " 'ttt': 'F',\n",
       " 'ttc': 'F',\n",
       " 'tgt': 'C',\n",
       " 'tgc': 'C',\n",
       " 'cct': 'P',\n",
       " 'ccc': 'P',\n",
       " 'cca': 'P',\n",
       " 'ccg': 'P',\n",
       " 'caa': 'Q',\n",
       " 'cag': 'Q',\n",
       " 'tct': 'S',\n",
       " 'tcc': 'S',\n",
       " 'tca': 'S',\n",
       " 'tcg': 'S',\n",
       " 'agt': 'S',\n",
       " 'agc': 'S',\n",
       " 'gaa': 'E',\n",
       " 'gag': 'E',\n",
       " 'act': 'T',\n",
       " 'acc': 'T',\n",
       " 'aca': 'T',\n",
       " 'acg': 'T',\n",
       " 'tgg': 'W',\n",
       " 'ggt': 'G',\n",
       " 'ggc': 'G',\n",
       " 'gga': 'G',\n",
       " 'ggg': 'G',\n",
       " 'tat': 'Y',\n",
       " 'tac': 'Y',\n",
       " 'cat': 'H',\n",
       " 'cac': 'H',\n",
       " 'gtt': 'V',\n",
       " 'gtc': 'V',\n",
       " 'gta': 'V',\n",
       " 'gtg': 'V',\n",
       " 'taa': '*',\n",
       " 'tga': '*',\n",
       " 'tag': '*'}"
      ]
     },
     "execution_count": 3,
     "metadata": {},
     "output_type": "execute_result"
    }
   ],
   "source": [
    "nomenclature = \"\"\"Ala / A GCU, GCC, GCA, GCG\n",
    "Ile / I AUU, AUC, AUA\n",
    "Arg / R CGU, CGC, CGA, CGG; AGA, AGG\n",
    "Leu / L CUU, CUC, CUA, CUG; UUA, UUG\n",
    "Asn / N AAU, AAC\n",
    "Lys / K AAA, AAG\n",
    "Asp / D GAU, GAC\n",
    "Met / M AUG\n",
    "Phe / F UUU, UUC\n",
    "Cys / C UGU, UGC\n",
    "Pro / P CCU, CCC, CCA, CCG\n",
    "Gln / Q CAA, CAG\n",
    "Ser / S UCU, UCC, UCA, UCG; AGU, AGC\n",
    "Glu / E GAA, GAG\n",
    "Thr / T ACU, ACC, ACA, ACG\n",
    "Trp / W UGG\n",
    "Gly / G GGU, GGC, GGA, GGG\n",
    "Tyr / Y UAU, UAC\n",
    "His / H CAU, CAC\n",
    "Val / V GUU, GUC, GUA, GUG\n",
    "STOP    UAA, UGA, UAG\n",
    "\"\"\".strip()\n",
    "dec = {}\n",
    "for gene in nomenclature.split(\"\\n\"):\n",
    "    #     k= genegene.split(\"\\x09\"): #list of ascii keys https://donsnotes.com/tech/charsets/ascii.html\n",
    "    k = gene[:len(\"Val / V\")].strip()\n",
    "    v = gene[len(\"Val / V\"):]\n",
    "    if '/' in k:\n",
    "        k = k.split(\"/\")[-1].strip()\n",
    "    k = k.replace(\"STOP\", \"*\")\n",
    "    v = v.replace(\",\", \"\").replace(\";\", \"\").lower().replace(\"u\", \"t\").split(\" \")\n",
    "    for w in v:\n",
    "        if w in dec:\n",
    "            print(\"dup\", w)\n",
    "        dec[w.strip()] = k \n",
    "        \n",
    "dec\n"
   ]
  },
  {
   "cell_type": "code",
   "execution_count": 15,
   "metadata": {},
   "outputs": [],
   "source": [
    "def translate(gene, protien=False):\n",
    "    gene = gene.lower()\n",
    "    seq = []\n",
    "    for i in range(0, len(x)-2, 3):\n",
    "        seq.append(dec[x[i:i+3]])\n",
    "    seq = ''.join(seq)\n",
    "    if protien:\n",
    "        if seq[0] != \"M\" or seq[-1] != \"*\":\n",
    "            print(\"Bad protien\")\n",
    "            print(seq)\n",
    "            return none\n",
    "      \n",
    "        seq =  seq[:-1]\n",
    "    return seq\n",
    "      "
   ]
  },
  {
   "cell_type": "code",
   "execution_count": 22,
   "metadata": {},
   "outputs": [
    {
     "data": {
      "text/plain": [
       "'TFS'"
      ]
     },
     "execution_count": 22,
     "metadata": {},
     "output_type": "execute_result"
    }
   ],
   "source": [
    "x='acgttttcgc'\n",
    "translate(x)"
   ]
  },
  {
   "cell_type": "code",
   "execution_count": null,
   "metadata": {},
   "outputs": [],
   "source": []
  }
 ],
 "metadata": {
  "kernelspec": {
   "display_name": "Python 3",
   "language": "python",
   "name": "python3"
  },
  "language_info": {
   "codemirror_mode": {
    "name": "ipython",
    "version": 3
   },
   "file_extension": ".py",
   "mimetype": "text/x-python",
   "name": "python",
   "nbconvert_exporter": "python",
   "pygments_lexer": "ipython3",
   "version": "3.6.6"
  }
 },
 "nbformat": 4,
 "nbformat_minor": 4
}
